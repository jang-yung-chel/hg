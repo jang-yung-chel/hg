{
  "nbformat": 4,
  "nbformat_minor": 0,
  "metadata": {
    "colab": {
      "provenance": []
    },
    "kernelspec": {
      "name": "python3",
      "display_name": "Python 3"
    },
    "language_info": {
      "name": "python"
    }
  },
  "cells": [
    {
      "cell_type": "markdown",
      "source": [
        "#랜덤 포레스트 \n",
        "앙상블 학습의 대표적 주자 안정적인 성능으로 보편적으로 쓰임\n",
        "앞에서 한 결정트리를 랜덤하게 만들어 숲을 만든 후 각 트리의 예측을 사용해 최종 예측을 만듬\n"
      ],
      "metadata": {
        "id": "YeBBUR6SFIfO"
      }
    },
    {
      "cell_type": "markdown",
      "source": [
        "#트리의 앙상블 학습\n",
        "특성 총 개수의 제곱근 갯수만큼 무작위로 뽑아서 학습시킨다.\n",
        "\n",
        "하나의 특성에 과도하게 집중하지 않고 좀 더 많은 특성이 훈련에 기여할 기회를 얻는다. 과대적합을 줄이고 일반화 성능을 높이는 데 도움이 된다.\n",
        "\n",
        "중복이 허용된 샘플인 부트스트랩 샘플을 사용한다."
      ],
      "metadata": {
        "id": "r-JZR3FUFG-C"
      }
    },
    {
      "cell_type": "code",
      "execution_count": 3,
      "metadata": {
        "id": "PxY1aquHA-0Z"
      },
      "outputs": [],
      "source": [
        "import numpy as np\n",
        "import pandas as pd\n",
        "from sklearn.model_selection import train_test_split\n",
        "from sklearn.model_selection import cross_validate\n",
        "from sklearn.ensemble import RandomForestClassifier"
      ]
    },
    {
      "cell_type": "markdown",
      "source": [
        "전 수업과 같이 와인 데이터를 사용하고 훈련 세트와 테스트 세트로 나누기\n",
        "\n"
      ],
      "metadata": {
        "id": "uN0riCTiHXMI"
      }
    },
    {
      "cell_type": "code",
      "source": [
        "wine = pd.read_csv('http://bit.ly/wine_csv_data')\n",
        "data = wine[['alcohol','sugar','pH']].to_numpy()\n",
        "target = wine['class'].to_numpy()\n",
        "train_input , test_input , train_target, test_target = train_test_split(data , target ,test_size = 0.2, random_state=42)"
      ],
      "metadata": {
        "id": "Zl-YH2RpBW7q"
      },
      "execution_count": 2,
      "outputs": []
    },
    {
      "cell_type": "code",
      "source": [
        "rf = RandomForestClassifier(n_jobs=-1, random_state=42)\n",
        "scores = cross_validate(rf, train_input, train_target,\n",
        "                        return_train_score=True , n_jobs=-1)\n",
        "print(np.mean(scores['train_score']), np.mean(scores['test_score']))"
      ],
      "metadata": {
        "colab": {
          "base_uri": "https://localhost:8080/"
        },
        "id": "beyPbL8kBfTH",
        "outputId": "e3aaf3e6-9df3-4cb5-ff39-26b5e9d623c4"
      },
      "execution_count": 4,
      "outputs": [
        {
          "output_type": "stream",
          "name": "stdout",
          "text": [
            "0.9973541965122431 0.8905151032797809\n"
          ]
        }
      ]
    },
    {
      "cell_type": "code",
      "source": [
        "rf.fit(train_input, train_target)\n",
        "print(rf.feature_importances_)"
      ],
      "metadata": {
        "colab": {
          "base_uri": "https://localhost:8080/"
        },
        "id": "Ha2aiQzkJi5U",
        "outputId": "2d34216b-db7a-4bb1-d36e-7ea034385f9f"
      },
      "execution_count": 5,
      "outputs": [
        {
          "output_type": "stream",
          "name": "stdout",
          "text": [
            "[0.23167441 0.50039841 0.26792718]\n"
          ]
        }
      ]
    },
    {
      "cell_type": "markdown",
      "source": [
        "앞수업의 결정트리의 중요도 ['알코올 도수::'0.1245626, '당도:'0.86862934, 'pH:'0.0079144]"
      ],
      "metadata": {
        "id": "B1c1y-W6J3R4"
      }
    },
    {
      "cell_type": "markdown",
      "source": [
        "랜덤 포레스트의 중요도는 각 결정 트리에 특성의 일부를 랜덤하게 선택하여 결정트리를 훈련 때문에 앞 수업과 다른 중요도를 보임\n",
        "그 결과 하나의 특성에 과도하게 집중하지 않아 더많은 특성들이 훈련에 기여 함으로써 과대적합을 줄이고 일반화 성능을 높임"
      ],
      "metadata": {
        "id": "yHeCUTUjJDwl"
      }
    },
    {
      "cell_type": "markdown",
      "source": [
        "랜덤 포레스트의 검증세트의 역할을 하는 기능이 있는데 앞에서 말한 부트스트랩에 포합 되지 않는 나머지 샘플(OOB)를 이용해서 부트스트랩 샘플로 훈련한 결정트리를 평가 할수있다 "
      ],
      "metadata": {
        "id": "apG8PvvrMb6D"
      }
    },
    {
      "cell_type": "code",
      "source": [
        "rf = RandomForestClassifier(oob_score=True , n_jobs=-1, random_state=42)\n",
        "rf.fit(train_input,train_target)\n",
        "print(rf.oob_score_)"
      ],
      "metadata": {
        "colab": {
          "base_uri": "https://localhost:8080/"
        },
        "id": "n1UVVA6HIq69",
        "outputId": "c0866c90-1170-40ce-eb9c-b2b48d710b86"
      },
      "execution_count": 6,
      "outputs": [
        {
          "output_type": "stream",
          "name": "stdout",
          "text": [
            "0.8934000384837406\n"
          ]
        }
      ]
    },
    {
      "cell_type": "markdown",
      "source": [
        "#엑스트라 트리 \n",
        "기본적으로 랜덤 포레스트와 같지만 부트스트랩 샘플을 사용하지 않는다는 점이 있다 대신 노드 분할시 최적의 분할이 아닌 무작위로 분할한다\n",
        "\n",
        "무작위로 분할하여 성능은 낮아지지만 많은 트리를 앙상블 하기 때문에 과대적합을 막고 검중세트의 점수를 높힌다는 장점이 있다 "
      ],
      "metadata": {
        "id": "ggMk6E5_VGck"
      }
    },
    {
      "cell_type": "code",
      "source": [
        "from sklearn.ensemble import ExtraTreesClassifier"
      ],
      "metadata": {
        "id": "EYardQiZPdKD"
      },
      "execution_count": 7,
      "outputs": []
    },
    {
      "cell_type": "code",
      "source": [
        "et = ExtraTreesClassifier(n_jobs=-1, random_state=42)\n",
        "scores = cross_validate(et, train_input, train_target,\n",
        "                        return_train_score=True, n_jobs= -1)\n",
        "print(np.mean(scores['train_score']), np.mean(scores['test_score']))"
      ],
      "metadata": {
        "colab": {
          "base_uri": "https://localhost:8080/"
        },
        "id": "aPGu9iJuWhYY",
        "outputId": "7b2d19f3-975f-41cf-aee3-f1ace137bf2e"
      },
      "execution_count": 8,
      "outputs": [
        {
          "output_type": "stream",
          "name": "stdout",
          "text": [
            "0.9974503966084433 0.8887848893166506\n"
          ]
        }
      ]
    },
    {
      "cell_type": "markdown",
      "source": [
        "엑스트라 트리가 무작위성이 커서 더많은 결정트리를 훈련해야 하지만 랜덤하게 \n",
        "\n",
        "\n",
        "노드를 분할하기 때문에 빠른 계산속도가 장점이다"
      ],
      "metadata": {
        "id": "cCM2PSUTXakL"
      }
    },
    {
      "cell_type": "code",
      "source": [
        "et.fit(train_input, train_target)\n",
        "print(et.feature_importances_)"
      ],
      "metadata": {
        "colab": {
          "base_uri": "https://localhost:8080/"
        },
        "id": "glVI08b-XU3h",
        "outputId": "a2d8e557-1025-4d0f-ca3c-d777d2e91961"
      },
      "execution_count": 9,
      "outputs": [
        {
          "output_type": "stream",
          "name": "stdout",
          "text": [
            "[0.20183568 0.52242907 0.27573525]\n"
          ]
        }
      ]
    },
    {
      "cell_type": "markdown",
      "source": [
        "#그레이디언트 부스팅"
      ],
      "metadata": {
        "id": "j4sixkydbVMl"
      }
    },
    {
      "cell_type": "markdown",
      "source": [
        "깊이가 얕은 결정 트리를 사용하여 이전 트리의 오차를 보완하는 방식으로 앙상블 하는 방법\n",
        "\n",
        "경사 하강법을 사용하여 트리를 앙상블에 추가합니다. 분류엣는 로지스틱 손실 함수를 사용하고 회귀에서는 평균 제곱 오차 함수를 사용한다.\n",
        "\n",
        "그레디언트 부스팅은 결정 트리를 계속 추가하면서 손실 함수의 가장 낮은 곳을 찾아 이동한다(학습률 매개변수로 속도를 조절하는 것 또한 같다)."
      ],
      "metadata": {
        "id": "eqISPbLhbgCl"
      }
    },
    {
      "cell_type": "code",
      "source": [
        "from sklearn.ensemble import GradientBoostingClassifier"
      ],
      "metadata": {
        "id": "BbbgAOawYJUC"
      },
      "execution_count": 10,
      "outputs": []
    },
    {
      "cell_type": "code",
      "source": [
        "gb = GradientBoostingClassifier(random_state=42)\n",
        "scores = cross_validate(gb, train_input,train_target,\n",
        "                        return_train_score=True, n_jobs=-1)\n",
        "print(np.mean(scores['train_score']), np.mean(scores['test_score']))"
      ],
      "metadata": {
        "colab": {
          "base_uri": "https://localhost:8080/"
        },
        "id": "bGq50xchdSzv",
        "outputId": "e4264bb6-1aea-4a89-8ebf-c287ca057e50"
      },
      "execution_count": 16,
      "outputs": [
        {
          "output_type": "stream",
          "name": "stdout",
          "text": [
            "0.8881086892152563 0.8720430147331015\n"
          ]
        }
      ]
    },
    {
      "cell_type": "code",
      "source": [
        "gb = GradientBoostingClassifier(n_estimators=500, learning_rate=0.2,\n",
        "                                random_state=42)\n",
        "scores =cross_validate(gb, train_input, train_target,\n",
        "                       return_train_score=True, n_jobs=-1)\n",
        "print(np.mean(scores['train_score']),np.mean(scores['test_score']))"
      ],
      "metadata": {
        "colab": {
          "base_uri": "https://localhost:8080/"
        },
        "id": "Z7ugCbhqd6KN",
        "outputId": "7d9399d1-2a7a-4d76-ab70-c48b6ecba975"
      },
      "execution_count": 17,
      "outputs": [
        {
          "output_type": "stream",
          "name": "stdout",
          "text": [
            "0.9464595437171814 0.8780082549788999\n"
          ]
        }
      ]
    },
    {
      "cell_type": "code",
      "source": [
        "gb.fit(train_input,train_target)\n",
        "print(gb.feature_importances_)"
      ],
      "metadata": {
        "colab": {
          "base_uri": "https://localhost:8080/"
        },
        "id": "FwOhTTwPe4tv",
        "outputId": "4446d1c8-7149-411e-836a-227360cc246e"
      },
      "execution_count": 19,
      "outputs": [
        {
          "output_type": "stream",
          "name": "stdout",
          "text": [
            "[0.15872278 0.68010884 0.16116839]\n"
          ]
        }
      ]
    },
    {
      "cell_type": "markdown",
      "source": [
        "#히스토그램 기반 그레이디언트 부스팅"
      ],
      "metadata": {
        "id": "yqrlOQ-dfdTu"
      }
    },
    {
      "cell_type": "markdown",
      "source": [
        "입출력 특성을 256개의 구간으로 나눈다. 노드를 분할할 때 최적의 분할을 매우 빠르게 구할 수 있다.\n",
        "입력에 누락된 특성이 있더라도 따로 전처리 할 필요가 없다.\n",
        "사이킷런에서는 이 기능을 아직 테스트과정에 있다"
      ],
      "metadata": {
        "id": "RQJkbgG0flmO"
      }
    },
    {
      "cell_type": "code",
      "source": [
        "from sklearn.ensemble import HistGradientBoostingClassifier"
      ],
      "metadata": {
        "id": "bkrfFOuye_-k"
      },
      "execution_count": 22,
      "outputs": []
    },
    {
      "cell_type": "code",
      "source": [
        "hgb = HistGradientBoostingClassifier(random_state=42)\n",
        "scores = cross_validate(hgb, train_input, train_target,\n",
        "                        return_train_score=True)\n",
        "print(np.mean(scores['train_score']),np.mean(scores['test_score']))"
      ],
      "metadata": {
        "colab": {
          "base_uri": "https://localhost:8080/"
        },
        "id": "UgaTWP_ygA1-",
        "outputId": "0556267f-3304-497c-dfae-92f5c390f074"
      },
      "execution_count": 23,
      "outputs": [
        {
          "output_type": "stream",
          "name": "stdout",
          "text": [
            "0.9321723946453317 0.8801241948619236\n"
          ]
        }
      ]
    },
    {
      "cell_type": "code",
      "source": [
        "# hgb에서의 특성 중요도 확인\n",
        "from sklearn.inspection import permutation_importance"
      ],
      "metadata": {
        "id": "EUQxQBhggrqL"
      },
      "execution_count": 24,
      "outputs": []
    },
    {
      "cell_type": "code",
      "source": [
        "hgb.fit(train_input, train_target)\n",
        "result= permutation_importance(hgb, train_input, train_target,\n",
        "                               n_repeats=10, random_state=42, n_jobs=-1)\n",
        "print(result.importances_mean)"
      ],
      "metadata": {
        "colab": {
          "base_uri": "https://localhost:8080/"
        },
        "id": "lMTbFNDwhAO6",
        "outputId": "36a1125c-13d6-47de-ed57-9d34477f188e"
      },
      "execution_count": 26,
      "outputs": [
        {
          "output_type": "stream",
          "name": "stdout",
          "text": [
            "[0.08876275 0.23438522 0.08027708]\n"
          ]
        }
      ]
    },
    {
      "cell_type": "code",
      "source": [
        "result= permutation_importance(hgb, test_input, test_target,\n",
        "                               n_repeats=10, random_state=42, n_jobs=-1)\n",
        "print(result.importances_mean)"
      ],
      "metadata": {
        "colab": {
          "base_uri": "https://localhost:8080/"
        },
        "id": "oV1G8u9AhkuQ",
        "outputId": "450f8f85-bf8b-4f06-b54a-413ae42c4a34"
      },
      "execution_count": 27,
      "outputs": [
        {
          "output_type": "stream",
          "name": "stdout",
          "text": [
            "[0.05969231 0.20238462 0.049     ]\n"
          ]
        }
      ]
    },
    {
      "cell_type": "code",
      "source": [
        "#HistGradientBoostingClassifier를 이용해 최종적인 성능 확인 \n",
        "hgb.score(test_input, test_target)"
      ],
      "metadata": {
        "colab": {
          "base_uri": "https://localhost:8080/"
        },
        "id": "u_s_0LTRiGzW",
        "outputId": "ee98a7f3-37f0-4529-8bfc-64a24b1287b2"
      },
      "execution_count": 28,
      "outputs": [
        {
          "output_type": "execute_result",
          "data": {
            "text/plain": [
              "0.8723076923076923"
            ]
          },
          "metadata": {},
          "execution_count": 28
        }
      ]
    },
    {
      "cell_type": "markdown",
      "source": [
        "그레이디언트 부스팅 알고리즘을 구현한 라이브러리(XGBoost,LightGBM)"
      ],
      "metadata": {
        "id": "ptdWuSMUjU5w"
      }
    },
    {
      "cell_type": "code",
      "source": [
        "#XGBoost를 사용해서 와인 데이터 교차 검증 점수 확인\n",
        "from xgboost import XGBClassifier"
      ],
      "metadata": {
        "id": "aacNs73rikj9"
      },
      "execution_count": 31,
      "outputs": []
    },
    {
      "cell_type": "code",
      "source": [
        "xgb = XGBClassifier(tree_method='hist', random_state=42)\n",
        "scores = cross_validate(xgb, train_input, train_target,\n",
        "                        return_train_score=True)\n",
        "print(np.mean(scores['train_score']), np.mean(scores['test_score']))"
      ],
      "metadata": {
        "colab": {
          "base_uri": "https://localhost:8080/"
        },
        "id": "qQWUAV9cm7uY",
        "outputId": "f5dcc950-84a3-4260-cf20-67279bd832b0"
      },
      "execution_count": 34,
      "outputs": [
        {
          "output_type": "stream",
          "name": "stdout",
          "text": [
            "0.8824322471423747 0.8726214185237284\n"
          ]
        }
      ]
    },
    {
      "cell_type": "code",
      "source": [
        "#LightGBM을 사용해서 와인 교차 검증 점수 확인 \n",
        "from lightgbm import LGBMClassifier"
      ],
      "metadata": {
        "id": "20KNxKN_oJtp"
      },
      "execution_count": 36,
      "outputs": []
    },
    {
      "cell_type": "code",
      "source": [
        "lgb = LGBMClassifier(random_state=42)\n",
        "scores = cross_validate(lgb, train_input, train_target,\n",
        "                        return_train_score=True, n_jobs=-1)\n",
        "print(np.mean(scores['train_score']), np.mean(scores['test_score']))"
      ],
      "metadata": {
        "colab": {
          "base_uri": "https://localhost:8080/"
        },
        "id": "jY0QwglVpFFD",
        "outputId": "2d6c291d-d08a-4c6b-b1b5-95a44e9dc01d"
      },
      "execution_count": 37,
      "outputs": [
        {
          "output_type": "stream",
          "name": "stdout",
          "text": [
            "0.9338079582727165 0.8789710890649293\n"
          ]
        }
      ]
    },
    {
      "cell_type": "code",
      "source": [],
      "metadata": {
        "id": "RsoQXWvwpwx8"
      },
      "execution_count": null,
      "outputs": []
    }
  ]
}